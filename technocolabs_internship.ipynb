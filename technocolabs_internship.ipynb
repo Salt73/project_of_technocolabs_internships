{
  "cells": [
    {
      "cell_type": "markdown",
      "metadata": {
        "id": "cJSiWzHtoiWK"
      },
      "source": [
        "**Reasons why a loan could be rejected:**\n",
        "* Credit score was too low\n",
        "* Debt-to-income ratio was too high\n",
        "* Tried to borrow too much\n",
        "* Income was insufficient or unstable\n",
        "* Didn’t meet the basic requirements\n",
        "* Missing information on the application\n",
        "* Loan purpose didn’t meet the lender’s criteria\n",
        "\n",
        "[Reference](https://www.lendingtree.com/personal/reasons-why-your-personal-loan-was-declined/)\n"
      ]
    },
    {
      "cell_type": "markdown",
      "metadata": {
        "id": "el_s4CaCsAac"
      },
      "source": []
    },
    {
      "cell_type": "code",
      "execution_count": null,
      "metadata": {
        "id": "1EuOqQXiMoMk"
      },
      "outputs": [],
      "source": [
        "import warnings\n",
        "warnings.filterwarnings(\"ignore\")\n",
        "import pandas as pd\n",
        "\n",
        "import numpy as np\n",
        "import matplotlib.pyplot as plt\n",
        "import seaborn as sns\n",
        "\n",
        "%matplotlib inline"
      ]
    },
    {
      "cell_type": "code",
      "execution_count": null,
      "metadata": {
        "id": "Kip9Kx3JSUKe"
      },
      "outputs": [],
      "source": [
        "df = pd.read_csv('Bondora_raw.csv')"
      ]
    },
    {
      "cell_type": "code",
      "execution_count": null,
      "metadata": {
        "colab": {
          "base_uri": "https://localhost:8080/",
          "height": 387
        },
        "id": "ZEh7szMHSq08",
        "outputId": "9fbccd4e-2e9b-46f0-c578-25d777479a66"
      },
      "outputs": [
        {
          "data": {
            "text/html": [
              "<div>\n",
              "<style scoped>\n",
              "    .dataframe tbody tr th:only-of-type {\n",
              "        vertical-align: middle;\n",
              "    }\n",
              "\n",
              "    .dataframe tbody tr th {\n",
              "        vertical-align: top;\n",
              "    }\n",
              "\n",
              "    .dataframe thead th {\n",
              "        text-align: right;\n",
              "    }\n",
              "</style>\n",
              "<table border=\"1\" class=\"dataframe\">\n",
              "  <thead>\n",
              "    <tr style=\"text-align: right;\">\n",
              "      <th></th>\n",
              "      <th>ReportAsOfEOD</th>\n",
              "      <th>LoanId</th>\n",
              "      <th>LoanNumber</th>\n",
              "      <th>ListedOnUTC</th>\n",
              "      <th>BiddingStartedOn</th>\n",
              "      <th>BidsPortfolioManager</th>\n",
              "      <th>BidsApi</th>\n",
              "      <th>BidsManual</th>\n",
              "      <th>UserName</th>\n",
              "      <th>NewCreditCustomer</th>\n",
              "      <th>...</th>\n",
              "      <th>PreviousEarlyRepaymentsCountBeforeLoan</th>\n",
              "      <th>GracePeriodStart</th>\n",
              "      <th>GracePeriodEnd</th>\n",
              "      <th>NextPaymentDate</th>\n",
              "      <th>NextPaymentNr</th>\n",
              "      <th>NrOfScheduledPayments</th>\n",
              "      <th>ReScheduledOn</th>\n",
              "      <th>PrincipalDebtServicingCost</th>\n",
              "      <th>InterestAndPenaltyDebtServicingCost</th>\n",
              "      <th>ActiveLateLastPaymentCategory</th>\n",
              "    </tr>\n",
              "  </thead>\n",
              "  <tbody>\n",
              "    <tr>\n",
              "      <th>0</th>\n",
              "      <td>2020-01-27</td>\n",
              "      <td>F0660C80-83F3-4A97-8DA0-9C250112D6EC</td>\n",
              "      <td>659</td>\n",
              "      <td>2009-06-11 16:40:39</td>\n",
              "      <td>2009-06-11 16:40:39</td>\n",
              "      <td>0</td>\n",
              "      <td>0</td>\n",
              "      <td>115.0410</td>\n",
              "      <td>KARU</td>\n",
              "      <td>True</td>\n",
              "      <td>...</td>\n",
              "      <td>0</td>\n",
              "      <td>NaN</td>\n",
              "      <td>NaN</td>\n",
              "      <td>NaN</td>\n",
              "      <td>NaN</td>\n",
              "      <td>NaN</td>\n",
              "      <td>NaN</td>\n",
              "      <td>0.0</td>\n",
              "      <td>0.0</td>\n",
              "      <td>NaN</td>\n",
              "    </tr>\n",
              "    <tr>\n",
              "      <th>1</th>\n",
              "      <td>2020-01-27</td>\n",
              "      <td>978BB85B-1C69-4D51-8447-9C240104A3A2</td>\n",
              "      <td>654</td>\n",
              "      <td>2009-06-10 15:48:57</td>\n",
              "      <td>2009-06-10 15:48:57</td>\n",
              "      <td>0</td>\n",
              "      <td>0</td>\n",
              "      <td>140.6057</td>\n",
              "      <td>koort681</td>\n",
              "      <td>False</td>\n",
              "      <td>...</td>\n",
              "      <td>0</td>\n",
              "      <td>NaN</td>\n",
              "      <td>NaN</td>\n",
              "      <td>NaN</td>\n",
              "      <td>NaN</td>\n",
              "      <td>NaN</td>\n",
              "      <td>NaN</td>\n",
              "      <td>0.0</td>\n",
              "      <td>0.0</td>\n",
              "      <td>NaN</td>\n",
              "    </tr>\n",
              "    <tr>\n",
              "      <th>2</th>\n",
              "      <td>2020-01-27</td>\n",
              "      <td>EA44027E-7FA7-4BB2-846D-9C1F013C8A22</td>\n",
              "      <td>641</td>\n",
              "      <td>2009-06-05 19:12:29</td>\n",
              "      <td>2009-06-05 19:12:29</td>\n",
              "      <td>0</td>\n",
              "      <td>0</td>\n",
              "      <td>319.5580</td>\n",
              "      <td>0ie</td>\n",
              "      <td>True</td>\n",
              "      <td>...</td>\n",
              "      <td>0</td>\n",
              "      <td>NaN</td>\n",
              "      <td>NaN</td>\n",
              "      <td>NaN</td>\n",
              "      <td>NaN</td>\n",
              "      <td>NaN</td>\n",
              "      <td>NaN</td>\n",
              "      <td>0.0</td>\n",
              "      <td>0.0</td>\n",
              "      <td>180+</td>\n",
              "    </tr>\n",
              "    <tr>\n",
              "      <th>3</th>\n",
              "      <td>2020-01-27</td>\n",
              "      <td>CE67AD25-2951-4BEE-96BD-9C2700C61EF4</td>\n",
              "      <td>668</td>\n",
              "      <td>2009-06-13 12:01:20</td>\n",
              "      <td>2009-06-13 12:01:20</td>\n",
              "      <td>0</td>\n",
              "      <td>0</td>\n",
              "      <td>57.5205</td>\n",
              "      <td>Alyona</td>\n",
              "      <td>True</td>\n",
              "      <td>...</td>\n",
              "      <td>0</td>\n",
              "      <td>NaN</td>\n",
              "      <td>NaN</td>\n",
              "      <td>NaN</td>\n",
              "      <td>NaN</td>\n",
              "      <td>NaN</td>\n",
              "      <td>NaN</td>\n",
              "      <td>0.0</td>\n",
              "      <td>0.0</td>\n",
              "      <td>NaN</td>\n",
              "    </tr>\n",
              "    <tr>\n",
              "      <th>4</th>\n",
              "      <td>2020-01-27</td>\n",
              "      <td>9408BF8C-B159-4D6A-9D61-9C2400A986E3</td>\n",
              "      <td>652</td>\n",
              "      <td>2009-06-10 10:17:13</td>\n",
              "      <td>2009-06-10 10:17:13</td>\n",
              "      <td>0</td>\n",
              "      <td>0</td>\n",
              "      <td>319.5582</td>\n",
              "      <td>Kai</td>\n",
              "      <td>True</td>\n",
              "      <td>...</td>\n",
              "      <td>0</td>\n",
              "      <td>NaN</td>\n",
              "      <td>NaN</td>\n",
              "      <td>NaN</td>\n",
              "      <td>NaN</td>\n",
              "      <td>NaN</td>\n",
              "      <td>NaN</td>\n",
              "      <td>0.0</td>\n",
              "      <td>0.0</td>\n",
              "      <td>180+</td>\n",
              "    </tr>\n",
              "  </tbody>\n",
              "</table>\n",
              "<p>5 rows × 112 columns</p>\n",
              "</div>"
            ],
            "text/plain": [
              "  ReportAsOfEOD                                LoanId  LoanNumber  \\\n",
              "0    2020-01-27  F0660C80-83F3-4A97-8DA0-9C250112D6EC         659   \n",
              "1    2020-01-27  978BB85B-1C69-4D51-8447-9C240104A3A2         654   \n",
              "2    2020-01-27  EA44027E-7FA7-4BB2-846D-9C1F013C8A22         641   \n",
              "3    2020-01-27  CE67AD25-2951-4BEE-96BD-9C2700C61EF4         668   \n",
              "4    2020-01-27  9408BF8C-B159-4D6A-9D61-9C2400A986E3         652   \n",
              "\n",
              "           ListedOnUTC     BiddingStartedOn  BidsPortfolioManager  BidsApi  \\\n",
              "0  2009-06-11 16:40:39  2009-06-11 16:40:39                     0        0   \n",
              "1  2009-06-10 15:48:57  2009-06-10 15:48:57                     0        0   \n",
              "2  2009-06-05 19:12:29  2009-06-05 19:12:29                     0        0   \n",
              "3  2009-06-13 12:01:20  2009-06-13 12:01:20                     0        0   \n",
              "4  2009-06-10 10:17:13  2009-06-10 10:17:13                     0        0   \n",
              "\n",
              "   BidsManual  UserName  NewCreditCustomer  ...  \\\n",
              "0    115.0410      KARU               True  ...   \n",
              "1    140.6057  koort681              False  ...   \n",
              "2    319.5580       0ie               True  ...   \n",
              "3     57.5205    Alyona               True  ...   \n",
              "4    319.5582       Kai               True  ...   \n",
              "\n",
              "  PreviousEarlyRepaymentsCountBeforeLoan GracePeriodStart GracePeriodEnd  \\\n",
              "0                                      0              NaN            NaN   \n",
              "1                                      0              NaN            NaN   \n",
              "2                                      0              NaN            NaN   \n",
              "3                                      0              NaN            NaN   \n",
              "4                                      0              NaN            NaN   \n",
              "\n",
              "  NextPaymentDate NextPaymentNr NrOfScheduledPayments  ReScheduledOn  \\\n",
              "0             NaN           NaN                   NaN            NaN   \n",
              "1             NaN           NaN                   NaN            NaN   \n",
              "2             NaN           NaN                   NaN            NaN   \n",
              "3             NaN           NaN                   NaN            NaN   \n",
              "4             NaN           NaN                   NaN            NaN   \n",
              "\n",
              "   PrincipalDebtServicingCost  InterestAndPenaltyDebtServicingCost  \\\n",
              "0                         0.0                                  0.0   \n",
              "1                         0.0                                  0.0   \n",
              "2                         0.0                                  0.0   \n",
              "3                         0.0                                  0.0   \n",
              "4                         0.0                                  0.0   \n",
              "\n",
              "   ActiveLateLastPaymentCategory  \n",
              "0                            NaN  \n",
              "1                            NaN  \n",
              "2                           180+  \n",
              "3                            NaN  \n",
              "4                           180+  \n",
              "\n",
              "[5 rows x 112 columns]"
            ]
          },
          "execution_count": 3,
          "metadata": {},
          "output_type": "execute_result"
        }
      ],
      "source": [
        "df.head()"
      ]
    },
    {
      "cell_type": "code",
      "execution_count": null,
      "metadata": {
        "colab": {
          "base_uri": "https://localhost:8080/"
        },
        "id": "lrN066uH7kTz",
        "outputId": "1b946f44-6be2-4123-decc-cd50ccc1236f"
      },
      "outputs": [
        {
          "data": {
            "text/plain": [
              "(134529, 112)"
            ]
          },
          "execution_count": 4,
          "metadata": {},
          "output_type": "execute_result"
        }
      ],
      "source": [
        "df.shape"
      ]
    },
    {
      "cell_type": "markdown",
      "metadata": {
        "id": "antrqzK8EeHO"
      },
      "source": [
        "This Dataset has 134529 records and 112 columns."
      ]
    },
    {
      "cell_type": "code",
      "execution_count": null,
      "metadata": {
        "colab": {
          "base_uri": "https://localhost:8080/",
          "height": 394
        },
        "id": "9YCUFO03dSlJ",
        "outputId": "7e011d0d-239f-434a-a930-03f0269edce3"
      },
      "outputs": [
        {
          "data": {
            "text/html": [
              "<div>\n",
              "<style scoped>\n",
              "    .dataframe tbody tr th:only-of-type {\n",
              "        vertical-align: middle;\n",
              "    }\n",
              "\n",
              "    .dataframe tbody tr th {\n",
              "        vertical-align: top;\n",
              "    }\n",
              "\n",
              "    .dataframe thead th {\n",
              "        text-align: right;\n",
              "    }\n",
              "</style>\n",
              "<table border=\"1\" class=\"dataframe\">\n",
              "  <thead>\n",
              "    <tr style=\"text-align: right;\">\n",
              "      <th></th>\n",
              "      <th>LoanNumber</th>\n",
              "      <th>BidsPortfolioManager</th>\n",
              "      <th>BidsApi</th>\n",
              "      <th>BidsManual</th>\n",
              "      <th>ApplicationSignedHour</th>\n",
              "      <th>ApplicationSignedWeekday</th>\n",
              "      <th>VerificationType</th>\n",
              "      <th>LanguageCode</th>\n",
              "      <th>Age</th>\n",
              "      <th>Gender</th>\n",
              "      <th>...</th>\n",
              "      <th>InterestAndPenaltyBalance</th>\n",
              "      <th>NoOfPreviousLoansBeforeLoan</th>\n",
              "      <th>AmountOfPreviousLoansBeforeLoan</th>\n",
              "      <th>PreviousRepaymentsBeforeLoan</th>\n",
              "      <th>PreviousEarlyRepaymentsBefoleLoan</th>\n",
              "      <th>PreviousEarlyRepaymentsCountBeforeLoan</th>\n",
              "      <th>NextPaymentNr</th>\n",
              "      <th>NrOfScheduledPayments</th>\n",
              "      <th>PrincipalDebtServicingCost</th>\n",
              "      <th>InterestAndPenaltyDebtServicingCost</th>\n",
              "    </tr>\n",
              "  </thead>\n",
              "  <tbody>\n",
              "    <tr>\n",
              "      <th>count</th>\n",
              "      <td>1.345290e+05</td>\n",
              "      <td>134529.000000</td>\n",
              "      <td>134529.000000</td>\n",
              "      <td>134529.000000</td>\n",
              "      <td>134529.000000</td>\n",
              "      <td>134529.000000</td>\n",
              "      <td>134484.000000</td>\n",
              "      <td>134529.000000</td>\n",
              "      <td>134529.000000</td>\n",
              "      <td>134484.000000</td>\n",
              "      <td>...</td>\n",
              "      <td>134529.000000</td>\n",
              "      <td>134529.000000</td>\n",
              "      <td>134529.000000</td>\n",
              "      <td>91368.000000</td>\n",
              "      <td>58026.000000</td>\n",
              "      <td>134529.000000</td>\n",
              "      <td>97788.000000</td>\n",
              "      <td>97788.000000</td>\n",
              "      <td>59129.000000</td>\n",
              "      <td>59129.000000</td>\n",
              "    </tr>\n",
              "    <tr>\n",
              "      <th>mean</th>\n",
              "      <td>9.449392e+05</td>\n",
              "      <td>966.452876</td>\n",
              "      <td>29.111664</td>\n",
              "      <td>559.332590</td>\n",
              "      <td>13.374640</td>\n",
              "      <td>3.907908</td>\n",
              "      <td>2.817257</td>\n",
              "      <td>2.827874</td>\n",
              "      <td>40.819295</td>\n",
              "      <td>0.442097</td>\n",
              "      <td>...</td>\n",
              "      <td>701.567107</td>\n",
              "      <td>1.487620</td>\n",
              "      <td>2868.652401</td>\n",
              "      <td>928.395548</td>\n",
              "      <td>320.743805</td>\n",
              "      <td>0.069903</td>\n",
              "      <td>5.178795</td>\n",
              "      <td>50.126795</td>\n",
              "      <td>5.264702</td>\n",
              "      <td>89.851455</td>\n",
              "    </tr>\n",
              "    <tr>\n",
              "      <th>std</th>\n",
              "      <td>4.786738e+05</td>\n",
              "      <td>1355.686016</td>\n",
              "      <td>150.159148</td>\n",
              "      <td>750.360512</td>\n",
              "      <td>4.992375</td>\n",
              "      <td>1.726192</td>\n",
              "      <td>1.407908</td>\n",
              "      <td>1.959802</td>\n",
              "      <td>12.348693</td>\n",
              "      <td>0.636083</td>\n",
              "      <td>...</td>\n",
              "      <td>2514.595572</td>\n",
              "      <td>2.396148</td>\n",
              "      <td>4507.046575</td>\n",
              "      <td>2042.348751</td>\n",
              "      <td>1561.799076</td>\n",
              "      <td>0.359461</td>\n",
              "      <td>7.674427</td>\n",
              "      <td>12.519530</td>\n",
              "      <td>57.800582</td>\n",
              "      <td>287.449052</td>\n",
              "    </tr>\n",
              "    <tr>\n",
              "      <th>min</th>\n",
              "      <td>3.700000e+01</td>\n",
              "      <td>0.000000</td>\n",
              "      <td>0.000000</td>\n",
              "      <td>0.000000</td>\n",
              "      <td>0.000000</td>\n",
              "      <td>1.000000</td>\n",
              "      <td>0.000000</td>\n",
              "      <td>1.000000</td>\n",
              "      <td>0.000000</td>\n",
              "      <td>0.000000</td>\n",
              "      <td>...</td>\n",
              "      <td>-2.660000</td>\n",
              "      <td>0.000000</td>\n",
              "      <td>0.000000</td>\n",
              "      <td>0.000000</td>\n",
              "      <td>0.000000</td>\n",
              "      <td>0.000000</td>\n",
              "      <td>0.000000</td>\n",
              "      <td>1.000000</td>\n",
              "      <td>0.000000</td>\n",
              "      <td>0.000000</td>\n",
              "    </tr>\n",
              "    <tr>\n",
              "      <th>25%</th>\n",
              "      <td>6.206790e+05</td>\n",
              "      <td>155.000000</td>\n",
              "      <td>0.000000</td>\n",
              "      <td>96.000000</td>\n",
              "      <td>10.000000</td>\n",
              "      <td>2.000000</td>\n",
              "      <td>1.000000</td>\n",
              "      <td>1.000000</td>\n",
              "      <td>31.000000</td>\n",
              "      <td>0.000000</td>\n",
              "      <td>...</td>\n",
              "      <td>0.000000</td>\n",
              "      <td>0.000000</td>\n",
              "      <td>0.000000</td>\n",
              "      <td>0.000000</td>\n",
              "      <td>0.000000</td>\n",
              "      <td>0.000000</td>\n",
              "      <td>0.000000</td>\n",
              "      <td>36.000000</td>\n",
              "      <td>0.000000</td>\n",
              "      <td>0.000000</td>\n",
              "    </tr>\n",
              "    <tr>\n",
              "      <th>50%</th>\n",
              "      <td>9.235970e+05</td>\n",
              "      <td>465.000000</td>\n",
              "      <td>0.000000</td>\n",
              "      <td>317.000000</td>\n",
              "      <td>13.000000</td>\n",
              "      <td>4.000000</td>\n",
              "      <td>4.000000</td>\n",
              "      <td>3.000000</td>\n",
              "      <td>40.000000</td>\n",
              "      <td>0.000000</td>\n",
              "      <td>...</td>\n",
              "      <td>0.000000</td>\n",
              "      <td>1.000000</td>\n",
              "      <td>396.354100</td>\n",
              "      <td>197.980000</td>\n",
              "      <td>0.000000</td>\n",
              "      <td>0.000000</td>\n",
              "      <td>3.000000</td>\n",
              "      <td>60.000000</td>\n",
              "      <td>0.000000</td>\n",
              "      <td>0.000000</td>\n",
              "    </tr>\n",
              "    <tr>\n",
              "      <th>75%</th>\n",
              "      <td>1.311025e+06</td>\n",
              "      <td>1218.000000</td>\n",
              "      <td>5.000000</td>\n",
              "      <td>729.000000</td>\n",
              "      <td>17.000000</td>\n",
              "      <td>5.000000</td>\n",
              "      <td>4.000000</td>\n",
              "      <td>4.000000</td>\n",
              "      <td>50.000000</td>\n",
              "      <td>1.000000</td>\n",
              "      <td>...</td>\n",
              "      <td>202.900000</td>\n",
              "      <td>2.000000</td>\n",
              "      <td>4250.000000</td>\n",
              "      <td>780.950000</td>\n",
              "      <td>0.000000</td>\n",
              "      <td>0.000000</td>\n",
              "      <td>7.000000</td>\n",
              "      <td>60.000000</td>\n",
              "      <td>0.000000</td>\n",
              "      <td>17.330000</td>\n",
              "    </tr>\n",
              "    <tr>\n",
              "      <th>max</th>\n",
              "      <td>1.855339e+06</td>\n",
              "      <td>10625.000000</td>\n",
              "      <td>7570.000000</td>\n",
              "      <td>10630.000000</td>\n",
              "      <td>23.000000</td>\n",
              "      <td>7.000000</td>\n",
              "      <td>4.000000</td>\n",
              "      <td>22.000000</td>\n",
              "      <td>77.000000</td>\n",
              "      <td>2.000000</td>\n",
              "      <td>...</td>\n",
              "      <td>64494.770000</td>\n",
              "      <td>25.000000</td>\n",
              "      <td>53762.000000</td>\n",
              "      <td>34077.420000</td>\n",
              "      <td>48100.000000</td>\n",
              "      <td>11.000000</td>\n",
              "      <td>60.000000</td>\n",
              "      <td>72.000000</td>\n",
              "      <td>3325.330000</td>\n",
              "      <td>5295.290000</td>\n",
              "    </tr>\n",
              "  </tbody>\n",
              "</table>\n",
              "<p>8 rows × 70 columns</p>\n",
              "</div>"
            ],
            "text/plain": [
              "         LoanNumber  BidsPortfolioManager        BidsApi     BidsManual  \\\n",
              "count  1.345290e+05         134529.000000  134529.000000  134529.000000   \n",
              "mean   9.449392e+05            966.452876      29.111664     559.332590   \n",
              "std    4.786738e+05           1355.686016     150.159148     750.360512   \n",
              "min    3.700000e+01              0.000000       0.000000       0.000000   \n",
              "25%    6.206790e+05            155.000000       0.000000      96.000000   \n",
              "50%    9.235970e+05            465.000000       0.000000     317.000000   \n",
              "75%    1.311025e+06           1218.000000       5.000000     729.000000   \n",
              "max    1.855339e+06          10625.000000    7570.000000   10630.000000   \n",
              "\n",
              "       ApplicationSignedHour  ApplicationSignedWeekday  VerificationType  \\\n",
              "count          134529.000000             134529.000000     134484.000000   \n",
              "mean               13.374640                  3.907908          2.817257   \n",
              "std                 4.992375                  1.726192          1.407908   \n",
              "min                 0.000000                  1.000000          0.000000   \n",
              "25%                10.000000                  2.000000          1.000000   \n",
              "50%                13.000000                  4.000000          4.000000   \n",
              "75%                17.000000                  5.000000          4.000000   \n",
              "max                23.000000                  7.000000          4.000000   \n",
              "\n",
              "        LanguageCode            Age         Gender  ...  \\\n",
              "count  134529.000000  134529.000000  134484.000000  ...   \n",
              "mean        2.827874      40.819295       0.442097  ...   \n",
              "std         1.959802      12.348693       0.636083  ...   \n",
              "min         1.000000       0.000000       0.000000  ...   \n",
              "25%         1.000000      31.000000       0.000000  ...   \n",
              "50%         3.000000      40.000000       0.000000  ...   \n",
              "75%         4.000000      50.000000       1.000000  ...   \n",
              "max        22.000000      77.000000       2.000000  ...   \n",
              "\n",
              "       InterestAndPenaltyBalance  NoOfPreviousLoansBeforeLoan  \\\n",
              "count              134529.000000                134529.000000   \n",
              "mean                  701.567107                     1.487620   \n",
              "std                  2514.595572                     2.396148   \n",
              "min                    -2.660000                     0.000000   \n",
              "25%                     0.000000                     0.000000   \n",
              "50%                     0.000000                     1.000000   \n",
              "75%                   202.900000                     2.000000   \n",
              "max                 64494.770000                    25.000000   \n",
              "\n",
              "       AmountOfPreviousLoansBeforeLoan  PreviousRepaymentsBeforeLoan  \\\n",
              "count                    134529.000000                  91368.000000   \n",
              "mean                       2868.652401                    928.395548   \n",
              "std                        4507.046575                   2042.348751   \n",
              "min                           0.000000                      0.000000   \n",
              "25%                           0.000000                      0.000000   \n",
              "50%                         396.354100                    197.980000   \n",
              "75%                        4250.000000                    780.950000   \n",
              "max                       53762.000000                  34077.420000   \n",
              "\n",
              "       PreviousEarlyRepaymentsBefoleLoan  \\\n",
              "count                       58026.000000   \n",
              "mean                          320.743805   \n",
              "std                          1561.799076   \n",
              "min                             0.000000   \n",
              "25%                             0.000000   \n",
              "50%                             0.000000   \n",
              "75%                             0.000000   \n",
              "max                         48100.000000   \n",
              "\n",
              "       PreviousEarlyRepaymentsCountBeforeLoan  NextPaymentNr  \\\n",
              "count                           134529.000000   97788.000000   \n",
              "mean                                 0.069903       5.178795   \n",
              "std                                  0.359461       7.674427   \n",
              "min                                  0.000000       0.000000   \n",
              "25%                                  0.000000       0.000000   \n",
              "50%                                  0.000000       3.000000   \n",
              "75%                                  0.000000       7.000000   \n",
              "max                                 11.000000      60.000000   \n",
              "\n",
              "       NrOfScheduledPayments  PrincipalDebtServicingCost  \\\n",
              "count           97788.000000                59129.000000   \n",
              "mean               50.126795                    5.264702   \n",
              "std                12.519530                   57.800582   \n",
              "min                 1.000000                    0.000000   \n",
              "25%                36.000000                    0.000000   \n",
              "50%                60.000000                    0.000000   \n",
              "75%                60.000000                    0.000000   \n",
              "max                72.000000                 3325.330000   \n",
              "\n",
              "       InterestAndPenaltyDebtServicingCost  \n",
              "count                         59129.000000  \n",
              "mean                             89.851455  \n",
              "std                             287.449052  \n",
              "min                               0.000000  \n",
              "25%                               0.000000  \n",
              "50%                               0.000000  \n",
              "75%                              17.330000  \n",
              "max                            5295.290000  \n",
              "\n",
              "[8 rows x 70 columns]"
            ]
          },
          "execution_count": 5,
          "metadata": {},
          "output_type": "execute_result"
        }
      ],
      "source": [
        "df.describe()"
      ]
    },
    {
      "cell_type": "code",
      "execution_count": null,
      "metadata": {
        "colab": {
          "base_uri": "https://localhost:8080/"
        },
        "id": "tva8yw7C3nUB",
        "outputId": "a27fd13a-1349-4ac7-ef56-25c7484db7a8"
      },
      "outputs": [
        {
          "data": {
            "text/plain": [
              "Index(['ReportAsOfEOD', 'LoanId', 'LoanNumber', 'ListedOnUTC',\n",
              "       'BiddingStartedOn', 'BidsPortfolioManager', 'BidsApi', 'BidsManual',\n",
              "       'UserName', 'NewCreditCustomer',\n",
              "       ...\n",
              "       'PreviousEarlyRepaymentsCountBeforeLoan', 'GracePeriodStart',\n",
              "       'GracePeriodEnd', 'NextPaymentDate', 'NextPaymentNr',\n",
              "       'NrOfScheduledPayments', 'ReScheduledOn', 'PrincipalDebtServicingCost',\n",
              "       'InterestAndPenaltyDebtServicingCost', 'ActiveLateLastPaymentCategory'],\n",
              "      dtype='object', length=112)"
            ]
          },
          "execution_count": 6,
          "metadata": {},
          "output_type": "execute_result"
        }
      ],
      "source": [
        "df.columns"
      ]
    },
    {
      "cell_type": "code",
      "execution_count": null,
      "metadata": {
        "id": "wNHBUEMgqAg9"
      },
      "outputs": [],
      "source": [
        "numerical_columns = df.select_dtypes(include=['float64','int64']).columns.to_list()"
      ]
    },
    {
      "cell_type": "markdown",
      "metadata": {
        "id": "Z_tX3AZ1sBux"
      },
      "source": [
        "**Impute with median value:** For the numerical column, you can also replace the missing values with median values. In case you have extreme values such as outliers it is advisable to use the median approach."
      ]
    },
    {
      "cell_type": "code",
      "execution_count": null,
      "metadata": {
        "colab": {
          "base_uri": "https://localhost:8080/"
        },
        "id": "raUpTUtzqzTt",
        "outputId": "2c57d710-9865-474b-844c-e85cfb8790b5"
      },
      "outputs": [
        {
          "data": {
            "text/plain": [
              "['BidsPortfolioManager',\n",
              " 'BidsApi',\n",
              " 'BidsManual',\n",
              " 'ApplicationSignedHour',\n",
              " 'ApplicationSignedWeekday',\n",
              " 'VerificationType',\n",
              " 'LanguageCode',\n",
              " 'Age',\n",
              " 'Gender',\n",
              " 'AppliedAmount',\n",
              " 'Amount',\n",
              " 'Interest',\n",
              " 'LoanDuration',\n",
              " 'MonthlyPayment',\n",
              " 'UseOfLoan',\n",
              " 'Education',\n",
              " 'MaritalStatus',\n",
              " 'EmploymentStatus',\n",
              " 'OccupationArea',\n",
              " 'HomeOwnershipType',\n",
              " 'IncomeFromPrincipalEmployer',\n",
              " 'IncomeFromPension',\n",
              " 'IncomeFromFamilyAllowance',\n",
              " 'IncomeFromSocialWelfare',\n",
              " 'IncomeFromLeavePay',\n",
              " 'IncomeFromChildSupport',\n",
              " 'IncomeOther',\n",
              " 'IncomeTotal',\n",
              " 'ExistingLiabilities',\n",
              " 'LiabilitiesTotal',\n",
              " 'RefinanceLiabilities',\n",
              " 'DebtToIncome',\n",
              " 'FreeCash',\n",
              " 'MonthlyPaymentDay',\n",
              " 'PlannedInterestTillDate',\n",
              " 'ExpectedLoss',\n",
              " 'LossGivenDefault',\n",
              " 'ExpectedReturn',\n",
              " 'ProbabilityOfDefault',\n",
              " 'PrincipalOverdueBySchedule',\n",
              " 'ModelVersion',\n",
              " 'PrincipalPaymentsMade',\n",
              " 'InterestAndPenaltyPaymentsMade',\n",
              " 'PrincipalBalance',\n",
              " 'InterestAndPenaltyBalance',\n",
              " 'NoOfPreviousLoansBeforeLoan',\n",
              " 'AmountOfPreviousLoansBeforeLoan',\n",
              " 'PreviousRepaymentsBeforeLoan',\n",
              " 'PreviousEarlyRepaymentsCountBeforeLoan',\n",
              " 'NextPaymentNr',\n",
              " 'NrOfScheduledPayments']"
            ]
          },
          "execution_count": 13,
          "metadata": {},
          "output_type": "execute_result"
        }
      ],
      "source": [
        "numerical_columns"
      ]
    },
    {
      "cell_type": "code",
      "execution_count": null,
      "metadata": {
        "colab": {
          "base_uri": "https://localhost:8080/"
        },
        "id": "GZNCQlJCrDIc",
        "outputId": "e5151ca1-3831-402d-ce2f-15f6428b4a08"
      },
      "outputs": [
        {
          "data": {
            "text/plain": [
              "ReportAsOfEOD                              object\n",
              "BidsPortfolioManager                        int64\n",
              "BidsApi                                     int64\n",
              "BidsManual                                float64\n",
              "NewCreditCustomer                            bool\n",
              "                                           ...   \n",
              "AmountOfPreviousLoansBeforeLoan           float64\n",
              "PreviousRepaymentsBeforeLoan              float64\n",
              "PreviousEarlyRepaymentsCountBeforeLoan      int64\n",
              "NextPaymentNr                             float64\n",
              "NrOfScheduledPayments                     float64\n",
              "Length: 71, dtype: object"
            ]
          },
          "execution_count": 14,
          "metadata": {},
          "output_type": "execute_result"
        }
      ],
      "source": [
        "df.dtypes"
      ]
    },
    {
      "cell_type": "code",
      "execution_count": null,
      "metadata": {
        "colab": {
          "base_uri": "https://localhost:8080/"
        },
        "id": "klxBb8wNqRll",
        "outputId": "8461a58b-c46d-4384-fcb3-8778dee539cc"
      },
      "outputs": [
        {
          "data": {
            "text/plain": [
              "51"
            ]
          },
          "execution_count": 15,
          "metadata": {},
          "output_type": "execute_result"
        }
      ],
      "source": [
        "len(numerical_columns)"
      ]
    },
    {
      "cell_type": "markdown",
      "metadata": {
        "id": "pRpb06NiuL15"
      },
      "source": [
        "**Impute with mode value:** For the categorical column, We can replace the missing values with mode values i.e the frequent ones."
      ]
    },
    {
      "cell_type": "code",
      "execution_count": null,
      "metadata": {
        "id": "hWe_15UrttKv"
      },
      "outputs": [],
      "source": [
        "categorical_columns = df.select_dtypes(include=['object','bool']).columns.to_list()"
      ]
    },
    {
      "cell_type": "code",
      "execution_count": null,
      "metadata": {
        "colab": {
          "base_uri": "https://localhost:8080/"
        },
        "id": "-9UWZekbt9mF",
        "outputId": "36c6708d-0b29-499e-f131-9ae80361fd34"
      },
      "outputs": [
        {
          "data": {
            "text/plain": [
              "['ReportAsOfEOD',\n",
              " 'NewCreditCustomer',\n",
              " 'LoanApplicationStartedDate',\n",
              " 'LoanDate',\n",
              " 'FirstPaymentDate',\n",
              " 'MaturityDate_Original',\n",
              " 'MaturityDate_Last',\n",
              " 'DateOfBirth',\n",
              " 'Country',\n",
              " 'County',\n",
              " 'City',\n",
              " 'EmploymentDurationCurrentEmployer',\n",
              " 'ActiveScheduleFirstPaymentReached',\n",
              " 'LastPaymentOn',\n",
              " 'StageActiveSince',\n",
              " 'Rating',\n",
              " 'Status',\n",
              " 'Restructured',\n",
              " 'WorseLateCategory',\n",
              " 'CreditScoreEsMicroL']"
            ]
          },
          "execution_count": 17,
          "metadata": {},
          "output_type": "execute_result"
        }
      ],
      "source": [
        "categorical_columns"
      ]
    },
    {
      "cell_type": "code",
      "execution_count": null,
      "metadata": {
        "colab": {
          "base_uri": "https://localhost:8080/"
        },
        "id": "I-RfCJRJqgnR",
        "outputId": "de0c1acf-39ae-44a0-f081-1dea57c95c67"
      },
      "outputs": [
        {
          "data": {
            "text/plain": [
              "20"
            ]
          },
          "execution_count": 19,
          "metadata": {},
          "output_type": "execute_result"
        }
      ],
      "source": [
        "len(categorical_columns)"
      ]
    },
    {
      "cell_type": "code",
      "execution_count": null,
      "metadata": {
        "id": "htft3JVHuFoL"
      },
      "outputs": [],
      "source": [
        "from sklearn.impute import SimpleImputer\n",
        "\n",
        "num_imp = SimpleImputer(strategy = 'median')\n",
        "df[numerical_columns]= num_imp.fit_transform(df[numerical_columns])\n",
        "\n",
        "cat_imp = SimpleImputer(strategy = 'most_frequent')\n",
        "df[categorical_columns]= cat_imp.fit_transform(df[categorical_columns])"
      ]
    },
    {
      "cell_type": "code",
      "execution_count": null,
      "metadata": {
        "colab": {
          "base_uri": "https://localhost:8080/"
        },
        "id": "SdMjCs-WNHgY",
        "outputId": "f2918772-9db8-4e8e-f1bb-5ff34b107fec"
      },
      "outputs": [
        {
          "data": {
            "text/plain": [
              "0.6785910205972808"
            ]
          },
          "execution_count": 82,
          "metadata": {},
          "output_type": "execute_result"
        }
      ],
      "source": [
        "mi_scores['InterestAndPenaltyBalance']"
      ]
    },
    {
      "cell_type": "code",
      "execution_count": null,
      "metadata": {
        "colab": {
          "base_uri": "https://localhost:8080/"
        },
        "id": "iIJQ-jeROPYH",
        "outputId": "508d2518-7e0c-42f6-c470-13c46df53f4b"
      },
      "outputs": [
        {
          "name": "stdout",
          "output_type": "stream",
          "text": [
            "Removing the BidsPortfolioManager column\n",
            "Removing the BidsApi column\n",
            "Removing the BidsManual column\n",
            "Removing the ApplicationSignedHour column\n",
            "Removing the ApplicationSignedWeekday column\n",
            "Removing the VerificationType column\n",
            "Removing the LanguageCode column\n",
            "Removing the Age column\n",
            "Removing the Gender column\n",
            "Removing the Amount column\n",
            "Removing the UseOfLoan column\n",
            "Removing the Education column\n",
            "Removing the MaritalStatus column\n",
            "Removing the EmploymentStatus column\n",
            "Removing the OccupationArea column\n",
            "Removing the HomeOwnershipType column\n",
            "Removing the IncomeFromPrincipalEmployer column\n",
            "Removing the IncomeFromPension column\n",
            "Removing the IncomeFromFamilyAllowance column\n",
            "Removing the IncomeFromSocialWelfare column\n",
            "Removing the IncomeFromLeavePay column\n",
            "Removing the IncomeFromChildSupport column\n",
            "Removing the IncomeOther column\n",
            "Removing the IncomeTotal column\n",
            "Removing the ExistingLiabilities column\n",
            "Removing the LiabilitiesTotal column\n",
            "Removing the RefinanceLiabilities column\n",
            "Removing the DebtToIncome column\n",
            "Removing the FreeCash column\n",
            "Removing the MonthlyPaymentDay column\n",
            "Removing the ModelVersion column\n",
            "Removing the NoOfPreviousLoansBeforeLoan column\n",
            "Removing the AmountOfPreviousLoansBeforeLoan column\n",
            "Removing the PreviousRepaymentsBeforeLoan column\n",
            "Removing the PreviousEarlyRepaymentsCountBeforeLoan column\n",
            "Removing the LoanApplicationStartedDate_month column\n",
            "Removing the LoanApplicationStartedDate_week column\n",
            "Removing the LoanApplicationStartedDate_day column\n",
            "Removing the LoanDate_year column\n",
            "Removing the LoanDate_month column\n",
            "Removing the LoanDate_week column\n",
            "Removing the LoanDate_day column\n",
            "Removing the FirstPaymentDate_month column\n",
            "Removing the FirstPaymentDate_week column\n",
            "Removing the FirstPaymentDate_day column\n",
            "Removing the MaturityDate_Original_month column\n",
            "Removing the MaturityDate_Original_week column\n",
            "Removing the MaturityDate_Original_day column\n",
            "Removing the MaturityDate_Last_month column\n",
            "Removing the MaturityDate_Last_week column\n",
            "Removing the MaturityDate_Last_day column\n",
            "Removing the LastPaymentOn_day column\n",
            "Removing the NewCreditCustomer_True column\n",
            "Removing the Country_Finland column\n",
            "Removing the Country_Slovakia column\n",
            "Removing the Country_Spain column\n",
            "Removing the EmploymentDurationCurrentEmployer_Other column\n",
            "Removing the EmploymentDurationCurrentEmployer_Retiree column\n",
            "Removing the EmploymentDurationCurrentEmployer_TrialPeriod column\n",
            "Removing the EmploymentDurationCurrentEmployer_UpTo1Year column\n",
            "Removing the EmploymentDurationCurrentEmployer_UpTo2Years column\n",
            "Removing the EmploymentDurationCurrentEmployer_UpTo3Years column\n",
            "Removing the EmploymentDurationCurrentEmployer_UpTo4Years column\n",
            "Removing the EmploymentDurationCurrentEmployer_UpTo5Years column\n",
            "Removing the ActiveScheduleFirstPaymentReached_True column\n",
            "Removing the Rating_AA column\n",
            "Removing the Rating_B column\n",
            "Removing the Rating_C column\n",
            "Removing the Rating_D column\n",
            "Removing the Rating_E column\n",
            "Removing the Rating_F column\n",
            "Removing the Rating_HR column\n",
            "Removing the Restructured_True column\n",
            "Removing the WorseLateCategory_121-150 column\n",
            "Removing the WorseLateCategory_151-180 column\n",
            "Removing the WorseLateCategory_16-30 column\n",
            "Removing the WorseLateCategory_180+ column\n",
            "Removing the WorseLateCategory_31-60 column\n",
            "Removing the WorseLateCategory_61-90 column\n",
            "Removing the WorseLateCategory_8-15 column\n",
            "Removing the WorseLateCategory_91-120 column\n",
            "Removing the CreditScoreEsMicroL_M1 column\n",
            "Removing the CreditScoreEsMicroL_M10 column\n",
            "Removing the CreditScoreEsMicroL_M2 column\n",
            "Removing the CreditScoreEsMicroL_M3 column\n",
            "Removing the CreditScoreEsMicroL_M4 column\n",
            "Removing the CreditScoreEsMicroL_M5 column\n",
            "Removing the CreditScoreEsMicroL_M6 column\n",
            "Removing the CreditScoreEsMicroL_M7 column\n",
            "Removing the CreditScoreEsMicroL_M8 column\n",
            "Removing the CreditScoreEsMicroL_M9 column\n"
          ]
        }
      ],
      "source": [
        "low_mi_score_col = []\n",
        "for i in X.columns:\n",
        "  if mi_scores[i] < 0.05:\n",
        "    print(f'Removing the {i} column')\n",
        "    low_mi_score_col.append(i)\n",
        "    X.drop(columns = [i], inplace = True)"
      ]
    },
    {
      "cell_type": "code",
      "execution_count": null,
      "metadata": {
        "colab": {
          "base_uri": "https://localhost:8080/"
        },
        "id": "ByU6hJDkOW8Z",
        "outputId": "6411f83b-e969-4a34-db07-89736343e315"
      },
      "outputs": [
        {
          "data": {
            "text/plain": [
              "(77394, 27)"
            ]
          },
          "execution_count": 84,
          "metadata": {},
          "output_type": "execute_result"
        }
      ],
      "source": [
        "X.shape"
      ]
    },
    {
      "cell_type": "code",
      "execution_count": null,
      "metadata": {
        "colab": {
          "base_uri": "https://localhost:8080/"
        },
        "id": "-3TKq-lBQOwo",
        "outputId": "b3831dfe-8ced-47d9-ef78-3930415f0fcb"
      },
      "outputs": [
        {
          "data": {
            "text/plain": [
              "Index(['AppliedAmount', 'Interest', 'LoanDuration', 'MonthlyPayment',\n",
              "       'PlannedInterestTillDate', 'ExpectedLoss', 'LossGivenDefault',\n",
              "       'ExpectedReturn', 'ProbabilityOfDefault', 'PrincipalOverdueBySchedule',\n",
              "       'PrincipalPaymentsMade', 'InterestAndPenaltyPaymentsMade',\n",
              "       'PrincipalBalance', 'InterestAndPenaltyBalance', 'NextPaymentNr',\n",
              "       'NrOfScheduledPayments', 'LoanApplicationStartedDate_year',\n",
              "       'FirstPaymentDate_year', 'MaturityDate_Original_year',\n",
              "       'MaturityDate_Last_year', 'LastPaymentOn_year', 'LastPaymentOn_month',\n",
              "       'LastPaymentOn_week', 'StageActiveSince_year', 'StageActiveSince_month',\n",
              "       'StageActiveSince_week', 'StageActiveSince_day'],\n",
              "      dtype='object')"
            ]
          },
          "execution_count": 85,
          "metadata": {},
          "output_type": "execute_result"
        }
      ],
      "source": [
        "X.columns"
      ]
    },
    {
      "cell_type": "code",
      "execution_count": null,
      "metadata": {
        "colab": {
          "base_uri": "https://localhost:8080/"
        },
        "id": "2n48gfGbQafQ",
        "outputId": "27888678-af60-4c5c-8972-baea3fae6cec"
      },
      "outputs": [
        {
          "data": {
            "text/plain": [
              "(77394, 27)"
            ]
          },
          "execution_count": 86,
          "metadata": {},
          "output_type": "execute_result"
        }
      ],
      "source": [
        "X.shape"
      ]
    },
    {
      "cell_type": "code",
      "execution_count": null,
      "metadata": {
        "colab": {
          "base_uri": "https://localhost:8080/",
          "height": 300
        },
        "id": "8u74SRa7YB9S",
        "outputId": "6c119b0c-7d97-4462-b954-de7b6cd17647"
      },
      "outputs": [
        {
          "data": {
            "text/html": [
              "<div>\n",
              "<style scoped>\n",
              "    .dataframe tbody tr th:only-of-type {\n",
              "        vertical-align: middle;\n",
              "    }\n",
              "\n",
              "    .dataframe tbody tr th {\n",
              "        vertical-align: top;\n",
              "    }\n",
              "\n",
              "    .dataframe thead th {\n",
              "        text-align: right;\n",
              "    }\n",
              "</style>\n",
              "<table border=\"1\" class=\"dataframe\">\n",
              "  <thead>\n",
              "    <tr style=\"text-align: right;\">\n",
              "      <th></th>\n",
              "      <th>AppliedAmount</th>\n",
              "      <th>Interest</th>\n",
              "      <th>LoanDuration</th>\n",
              "      <th>MonthlyPayment</th>\n",
              "      <th>PlannedInterestTillDate</th>\n",
              "      <th>ExpectedLoss</th>\n",
              "      <th>LossGivenDefault</th>\n",
              "      <th>ExpectedReturn</th>\n",
              "      <th>ProbabilityOfDefault</th>\n",
              "      <th>PrincipalOverdueBySchedule</th>\n",
              "      <th>...</th>\n",
              "      <th>FirstPaymentDate_year</th>\n",
              "      <th>MaturityDate_Original_year</th>\n",
              "      <th>MaturityDate_Last_year</th>\n",
              "      <th>LastPaymentOn_year</th>\n",
              "      <th>LastPaymentOn_month</th>\n",
              "      <th>LastPaymentOn_week</th>\n",
              "      <th>StageActiveSince_year</th>\n",
              "      <th>StageActiveSince_month</th>\n",
              "      <th>StageActiveSince_week</th>\n",
              "      <th>StageActiveSince_day</th>\n",
              "    </tr>\n",
              "  </thead>\n",
              "  <tbody>\n",
              "    <tr>\n",
              "      <th>0</th>\n",
              "      <td>319.5582</td>\n",
              "      <td>30.0</td>\n",
              "      <td>12.0</td>\n",
              "      <td>97.38</td>\n",
              "      <td>319.0800</td>\n",
              "      <td>0.123398</td>\n",
              "      <td>0.506748</td>\n",
              "      <td>0.134049</td>\n",
              "      <td>0.23414</td>\n",
              "      <td>0.00</td>\n",
              "      <td>...</td>\n",
              "      <td>2009</td>\n",
              "      <td>2010</td>\n",
              "      <td>2010</td>\n",
              "      <td>2010</td>\n",
              "      <td>7</td>\n",
              "      <td>27</td>\n",
              "      <td>2019</td>\n",
              "      <td>2</td>\n",
              "      <td>6</td>\n",
              "      <td>8</td>\n",
              "    </tr>\n",
              "    <tr>\n",
              "      <th>1</th>\n",
              "      <td>191.7349</td>\n",
              "      <td>25.0</td>\n",
              "      <td>1.0</td>\n",
              "      <td>97.38</td>\n",
              "      <td>45.8300</td>\n",
              "      <td>0.123398</td>\n",
              "      <td>0.506748</td>\n",
              "      <td>0.134049</td>\n",
              "      <td>0.23414</td>\n",
              "      <td>0.00</td>\n",
              "      <td>...</td>\n",
              "      <td>2009</td>\n",
              "      <td>2009</td>\n",
              "      <td>2009</td>\n",
              "      <td>2009</td>\n",
              "      <td>7</td>\n",
              "      <td>28</td>\n",
              "      <td>2019</td>\n",
              "      <td>2</td>\n",
              "      <td>6</td>\n",
              "      <td>8</td>\n",
              "    </tr>\n",
              "    <tr>\n",
              "      <th>2</th>\n",
              "      <td>319.5582</td>\n",
              "      <td>25.0</td>\n",
              "      <td>20.0</td>\n",
              "      <td>97.38</td>\n",
              "      <td>197.2926</td>\n",
              "      <td>0.123398</td>\n",
              "      <td>0.506748</td>\n",
              "      <td>0.134049</td>\n",
              "      <td>0.23414</td>\n",
              "      <td>116.35</td>\n",
              "      <td>...</td>\n",
              "      <td>2009</td>\n",
              "      <td>2011</td>\n",
              "      <td>2014</td>\n",
              "      <td>2012</td>\n",
              "      <td>10</td>\n",
              "      <td>40</td>\n",
              "      <td>2016</td>\n",
              "      <td>3</td>\n",
              "      <td>9</td>\n",
              "      <td>3</td>\n",
              "    </tr>\n",
              "    <tr>\n",
              "      <th>3</th>\n",
              "      <td>127.8233</td>\n",
              "      <td>45.0</td>\n",
              "      <td>15.0</td>\n",
              "      <td>97.38</td>\n",
              "      <td>293.1000</td>\n",
              "      <td>0.123398</td>\n",
              "      <td>0.506748</td>\n",
              "      <td>0.134049</td>\n",
              "      <td>0.23414</td>\n",
              "      <td>0.00</td>\n",
              "      <td>...</td>\n",
              "      <td>2009</td>\n",
              "      <td>2010</td>\n",
              "      <td>2010</td>\n",
              "      <td>2010</td>\n",
              "      <td>9</td>\n",
              "      <td>37</td>\n",
              "      <td>2019</td>\n",
              "      <td>2</td>\n",
              "      <td>6</td>\n",
              "      <td>8</td>\n",
              "    </tr>\n",
              "    <tr>\n",
              "      <th>4</th>\n",
              "      <td>319.5582</td>\n",
              "      <td>30.0</td>\n",
              "      <td>12.0</td>\n",
              "      <td>97.38</td>\n",
              "      <td>833.8100</td>\n",
              "      <td>0.123398</td>\n",
              "      <td>0.506748</td>\n",
              "      <td>0.134049</td>\n",
              "      <td>0.23414</td>\n",
              "      <td>0.00</td>\n",
              "      <td>...</td>\n",
              "      <td>2009</td>\n",
              "      <td>2010</td>\n",
              "      <td>2010</td>\n",
              "      <td>2015</td>\n",
              "      <td>7</td>\n",
              "      <td>29</td>\n",
              "      <td>2019</td>\n",
              "      <td>2</td>\n",
              "      <td>6</td>\n",
              "      <td>8</td>\n",
              "    </tr>\n",
              "  </tbody>\n",
              "</table>\n",
              "<p>5 rows × 27 columns</p>\n",
              "</div>"
            ],
            "text/plain": [
              "   AppliedAmount  Interest  LoanDuration  MonthlyPayment  \\\n",
              "0       319.5582      30.0          12.0           97.38   \n",
              "1       191.7349      25.0           1.0           97.38   \n",
              "2       319.5582      25.0          20.0           97.38   \n",
              "3       127.8233      45.0          15.0           97.38   \n",
              "4       319.5582      30.0          12.0           97.38   \n",
              "\n",
              "   PlannedInterestTillDate  ExpectedLoss  LossGivenDefault  ExpectedReturn  \\\n",
              "0                 319.0800      0.123398          0.506748        0.134049   \n",
              "1                  45.8300      0.123398          0.506748        0.134049   \n",
              "2                 197.2926      0.123398          0.506748        0.134049   \n",
              "3                 293.1000      0.123398          0.506748        0.134049   \n",
              "4                 833.8100      0.123398          0.506748        0.134049   \n",
              "\n",
              "   ProbabilityOfDefault  PrincipalOverdueBySchedule  ...  \\\n",
              "0               0.23414                        0.00  ...   \n",
              "1               0.23414                        0.00  ...   \n",
              "2               0.23414                      116.35  ...   \n",
              "3               0.23414                        0.00  ...   \n",
              "4               0.23414                        0.00  ...   \n",
              "\n",
              "   FirstPaymentDate_year  MaturityDate_Original_year  MaturityDate_Last_year  \\\n",
              "0                   2009                        2010                    2010   \n",
              "1                   2009                        2009                    2009   \n",
              "2                   2009                        2011                    2014   \n",
              "3                   2009                        2010                    2010   \n",
              "4                   2009                        2010                    2010   \n",
              "\n",
              "   LastPaymentOn_year  LastPaymentOn_month  LastPaymentOn_week  \\\n",
              "0                2010                    7                  27   \n",
              "1                2009                    7                  28   \n",
              "2                2012                   10                  40   \n",
              "3                2010                    9                  37   \n",
              "4                2015                    7                  29   \n",
              "\n",
              "   StageActiveSince_year  StageActiveSince_month  StageActiveSince_week  \\\n",
              "0                   2019                       2                      6   \n",
              "1                   2019                       2                      6   \n",
              "2                   2016                       3                      9   \n",
              "3                   2019                       2                      6   \n",
              "4                   2019                       2                      6   \n",
              "\n",
              "   StageActiveSince_day  \n",
              "0                     8  \n",
              "1                     8  \n",
              "2                     3  \n",
              "3                     8  \n",
              "4                     8  \n",
              "\n",
              "[5 rows x 27 columns]"
            ]
          },
          "execution_count": 87,
          "metadata": {},
          "output_type": "execute_result"
        }
      ],
      "source": [
        "X.head()"
      ]
    },
    {
      "cell_type": "code",
      "execution_count": null,
      "metadata": {
        "id": "-zfT556zZW5D"
      },
      "outputs": [],
      "source": [
        "from sklearn.model_selection import train_test_split\n",
        "x_train, x_test, y_train, y_test = train_test_split(X, y, test_size = 0.2, random_state=42)"
      ]
    },
    {
      "cell_type": "code",
      "execution_count": null,
      "metadata": {
        "id": "QGyTrgeeQoMs"
      },
      "outputs": [],
      "source": [
        "from sklearn.preprocessing import Normalizer\n",
        "scale = Normalizer()\n",
        "x_train = scale.fit_transform(x_train)\n",
        "x_test = scale.transform(x_test)"
      ]
    },
    {
      "cell_type": "markdown",
      "metadata": {
        "id": "JHPsaXtg9c6D"
      },
      "source": [
        "## Logistic Regression"
      ]
    },
    {
      "cell_type": "code",
      "execution_count": null,
      "metadata": {
        "id": "U-Asvl82bORk"
      },
      "outputs": [],
      "source": [
        "from sklearn.linear_model import LogisticRegression\n",
        "from sklearn.metrics import accuracy_score\n",
        "from sklearn.metrics import confusion_matrix"
      ]
    },
    {
      "cell_type": "code",
      "execution_count": null,
      "metadata": {
        "id": "Gm90MxT3955g"
      },
      "outputs": [],
      "source": [
        "from sklearn.metrics import accuracy_score, precision_score, recall_score, f1_score\n",
        "\n",
        "# Fit the logistic regression model\n",
        "clf = LogisticRegression()\n",
        "clf.fit(x_train, y_train)\n",
        "\n",
        "# Make predictions on the test set\n",
        "y_pred = clf.predict(x_test)\n",
        "\n",
        "# Calculate the model's performance metrics\n",
        "accuracy = accuracy_score(y_test, y_pred)\n",
        "precision = precision_score(y_test, y_pred)\n",
        "recall = recall_score(y_test, y_pred)\n",
        "f1 = f1_score(y_test, y_pred)"
      ]
    },
    {
      "cell_type": "markdown",
      "metadata": {
        "id": "sBcnUm6s971t"
      },
      "source": [
        "## Random Forest Classifier"
      ]
    },
    {
      "cell_type": "code",
      "execution_count": null,
      "metadata": {
        "colab": {
          "base_uri": "https://localhost:8080/"
        },
        "id": "vdyrOKCl-Aoa",
        "outputId": "51cc078c-ddf0-44c5-edaf-41317c8104c2"
      },
      "outputs": [
        {
          "data": {
            "text/plain": [
              "0.9999515464750061"
            ]
          },
          "execution_count": 94,
          "metadata": {},
          "output_type": "execute_result"
        }
      ],
      "source": [
        "from sklearn.ensemble import RandomForestClassifier\n",
        "classifier_rf = RandomForestClassifier(random_state=42, n_jobs=-1, max_depth=5,\n",
        "                                       n_estimators=100, oob_score=True)\n",
        "classifier_rf.fit(x_train, y_train)\n",
        "\n",
        "classifier_rf.oob_score_"
      ]
    },
    {
      "cell_type": "code",
      "execution_count": null,
      "metadata": {
        "colab": {
          "base_uri": "https://localhost:8080/"
        },
        "id": "Mt-5Q8ug-Joq",
        "outputId": "df5e2aea-1911-4aea-d4ff-95ef49dfedbf"
      },
      "outputs": [
        {
          "data": {
            "text/plain": [
              "0.9986433013001695"
            ]
          },
          "execution_count": 97,
          "metadata": {},
          "output_type": "execute_result"
        }
      ],
      "source": [
        "from sklearn.ensemble import RandomForestClassifier\n",
        "classifier_rf = RandomForestClassifier(max_depth=2, min_samples_leaf=5, n_jobs=-1,\n",
        "                                       random_state=42, n_estimators=100, oob_score=True)\n",
        "\n",
        "classifier_rf.fit(x_train, y_train)\n",
        "\n",
        "classifier_rf.oob_score_"
      ]
    },
    {
      "cell_type": "code",
      "execution_count": null,
      "metadata": {
        "id": "DKAtGRCbMXwd"
      },
      "outputs": [],
      "source": [
        "y_pred = classifier_rf.predict(x_test)\n",
        "accuracy = accuracy_score(y_test, y_pred)\n",
        "precision = precision_score(y_test, y_pred)\n",
        "recall = recall_score(y_test, y_pred)\n",
        "f1 = f1_score(y_test, y_pred)"
      ]
    }
  ],
  "metadata": {
    "colab": {
      "provenance": []
    },
    "gpuClass": "standard",
    "kernelspec": {
      "display_name": "Python 3 (ipykernel)",
      "language": "python",
      "name": "python3"
    },
    "language_info": {
      "codemirror_mode": {
        "name": "ipython",
        "version": 3
      },
      "file_extension": ".py",
      "mimetype": "text/x-python",
      "name": "python",
      "nbconvert_exporter": "python",
      "pygments_lexer": "ipython3",
      "version": "3.10.9"
    }
  },
  "nbformat": 4,
  "nbformat_minor": 0
}